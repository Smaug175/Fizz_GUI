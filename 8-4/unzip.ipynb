{
 "cells": [
  {
   "cell_type": "code",
   "execution_count": 1,
   "metadata": {},
   "outputs": [],
   "source": [
    "from ctypes import windll\n",
    "#from sympy.physics.units.definitions.unit_definitions import ms\n",
    "windll.shcore.SetProcessDpiAwareness(1)\n",
    "import tkinter as tk\n",
    "import pickle\n",
    "import sys\n",
    "import os\n",
    "\n",
    "def read_data(d1,d2,w1,w2):\n",
    "    '''\n",
    "    通过D,和W的大小来区分和读取数据，并返回四个数据结果。\n",
    "    '''\n",
    "    name=sys.path[0]+'\\data\\\\'+'D='+str(d1)+'-'+str(d2)+'_W='+str(w1)+'-'+str(w2)+\".bin\"\n",
    "\n",
    "    with open(name,'rb') as file:\n",
    "        move_datas=pickle.load(file)\n",
    "    \n",
    "    return move_datas\n",
    "\n",
    "def clean(mouse_move):\n",
    "    new1=[]\n",
    "    for i in range(len(mouse_move)):\n",
    "        new2=[]\n",
    "        t=-1\n",
    "        x=-1\n",
    "        y=-1\n",
    "        for j in range(len(mouse_move[i])):\n",
    "            \n",
    "            if t==mouse_move[i][j][0] and x==mouse_move[i][j][1] and y==mouse_move[i][j][2]:\n",
    "                t=mouse_move[i][j][0]\n",
    "                x=mouse_move[i][j][1]\n",
    "                y=mouse_move[i][j][2]\n",
    "                continue\n",
    "            else:\n",
    "                t=mouse_move[i][j][0]\n",
    "                x=mouse_move[i][j][1]\n",
    "                y=mouse_move[i][j][2]\n",
    "                new2.append(mouse_move[i][j])\n",
    "        new1.append(new2)\n",
    "    return new1\n",
    "\n",
    "def save_esc(mouse_move,d1,d2,w1,w2):\n",
    "    folder_path=sys.path[0]+'\\data_new'\n",
    "    if not os.path.exists(folder_path):\n",
    "        os.mkdir(folder_path)\n",
    "        print(f\"Folder '{folder_path}' created successfully.\")\n",
    "    #todo 保存数据的名字要改为方便的名字\n",
    "    mouse_move_name = 'D='+str(d1)+'-'+str(d2)+'_W='+str(w1)+'-'+str(w2)+\".bin\"  # 文件路径和名称\n",
    "    mouse_move_path=sys.path[0]+'\\data_new\\\\'+mouse_move_name\n",
    "    # 打开文件，以写入模式\n",
    "    with open(mouse_move_path, \"wb\") as file:\n",
    "        pickle.dump(mouse_move, file)\n",
    "\n",
    "\n"
   ]
  },
  {
   "cell_type": "code",
   "execution_count": 2,
   "metadata": {},
   "outputs": [
    {
     "name": "stdout",
     "output_type": "stream",
     "text": [
      "Folder 'd:\\Desk\\Fizz_GUI\\8-4\\data_new' created successfully.\n"
     ]
    }
   ],
   "source": [
    "# 这里是程序的入口\n",
    "d=[2500,2000,1500,1000,500,250,125]\n",
    "w=[80,60,40,20]\n",
    "\n",
    "screen_wide,screen_high=2560,1600\n",
    "  \n",
    "for i in range(len(d)):\n",
    "    for j in range(len(w)):\n",
    "        mouse_move=read_data(d[i],d[i],w[j],w[j])\n",
    "        mouse_move=clean(mouse_move)\n",
    "        save_esc(mouse_move,d[i],d[i],w[j],w[j])\n"
   ]
  }
 ],
 "metadata": {
  "kernelspec": {
   "display_name": "py39",
   "language": "python",
   "name": "python3"
  },
  "language_info": {
   "codemirror_mode": {
    "name": "ipython",
    "version": 3
   },
   "file_extension": ".py",
   "mimetype": "text/x-python",
   "name": "python",
   "nbconvert_exporter": "python",
   "pygments_lexer": "ipython3",
   "version": "3.9.16"
  },
  "orig_nbformat": 4
 },
 "nbformat": 4,
 "nbformat_minor": 2
}
