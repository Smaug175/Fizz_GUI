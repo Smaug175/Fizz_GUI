{
 "cells": [
  {
   "cell_type": "code",
   "execution_count": 3,
   "metadata": {},
   "outputs": [],
   "source": [
    "import tkinter as tk\n",
    "\n",
    "def on_scale(event):\n",
    "    delta = event.delta\n",
    "    scale_factor = 1.1 if delta > 0 else 0.9\n",
    "    canvas.scale(\"all\", event.x, event.y, scale_factor, scale_factor)\n",
    "\n",
    "def on_mouse_press(event):\n",
    "    # 记录鼠标按下时的初始位置\n",
    "    canvas.start_x = event.x\n",
    "    canvas.start_y = event.y\n",
    "\n",
    "def on_mouse_drag(event):\n",
    "    # 计算鼠标移动的距离\n",
    "    dx = event.x - canvas.start_x\n",
    "    dy = event.y - canvas.start_y\n",
    "\n",
    "    # 移动Canvas上的元素\n",
    "    canvas.move(\"all\", dx, dy)\n",
    "\n",
    "    # 更新初始位置\n",
    "    canvas.start_x = event.x\n",
    "    canvas.start_y = event.y\n",
    "\n",
    "root = tk.Tk()\n",
    "canvas = tk.Canvas(root, width=400, height=300)\n",
    "canvas.pack()\n",
    "\n",
    "canvas.create_rectangle(50, 50, 150, 150, fill=\"blue\")\n",
    "\n",
    "canvas.bind(\"<ButtonPress-1>\", on_mouse_press)\n",
    "canvas.bind(\"<B1-Motion>\", on_mouse_drag)\n",
    "canvas.bind(\"<MouseWheel>\", on_scale)\n",
    "\n",
    "root.mainloop()\n"
   ]
  },
  {
   "cell_type": "code",
   "execution_count": 2,
   "metadata": {},
   "outputs": [],
   "source": [
    "import tkinter as tk\n",
    "\n",
    "def on_scale(event):\n",
    "    delta = event.delta\n",
    "    scale_factor = 1.1 if delta > 0 else 0.9\n",
    "    canvas.scale(\"all\", event.x, event.y, scale_factor, scale_factor)\n",
    "\n",
    "root = tk.Tk()\n",
    "canvas = tk.Canvas(root, width=400, height=300)\n",
    "canvas.pack()\n",
    "\n",
    "canvas.create_rectangle(50, 50, 200, 150, fill=\"blue\")\n",
    "\n",
    "canvas.bind(\"<MouseWheel>\", on_scale)\n",
    "\n",
    "root.mainloop()\n"
   ]
  },
  {
   "cell_type": "code",
   "execution_count": 4,
   "metadata": {},
   "outputs": [
    {
     "name": "stdout",
     "output_type": "stream",
     "text": [
      "Pattern: 3, Support: [1]\n",
      "Pattern: 2, Support: [1, 2]\n",
      "Pattern: 2, Support: [1, 2, 4]\n",
      "Pattern: 2, Support: [1, 3]\n",
      "Pattern: 2, Support: [1, 3, 4]\n",
      "Pattern: 3, Support: [1, 4]\n",
      "Pattern: 4, Support: [2]\n",
      "Pattern: 2, Support: [2, 3]\n",
      "Pattern: 3, Support: [2, 4]\n",
      "Pattern: 2, Support: [2, 5]\n",
      "Pattern: 3, Support: [3]\n",
      "Pattern: 2, Support: [3, 4]\n",
      "Pattern: 4, Support: [4]\n",
      "Pattern: 2, Support: [5]\n"
     ]
    }
   ],
   "source": [
    "from prefixspan import PrefixSpan\n",
    "\n",
    "# 准备序列数据\n",
    "sequences = [\n",
    "    [1, 2, 3, 4],\n",
    "    [2, 3, 5],\n",
    "    [1, 2, 4],\n",
    "    [1, 3, 4],\n",
    "    [2, 4, 5]\n",
    "]\n",
    "\n",
    "# 进行序列模式挖掘\n",
    "ps = PrefixSpan(sequences)\n",
    "frequent_patterns = ps.frequent(2)  # 设置最小支持度阈值为2\n",
    "\n",
    "# 输出频繁模式\n",
    "for pattern, support in frequent_patterns:\n",
    "    print(f\"Pattern: {pattern}, Support: {support}\")\n"
   ]
  }
 ],
 "metadata": {
  "kernelspec": {
   "display_name": "py39",
   "language": "python",
   "name": "python3"
  },
  "language_info": {
   "codemirror_mode": {
    "name": "ipython",
    "version": 3
   },
   "file_extension": ".py",
   "mimetype": "text/x-python",
   "name": "python",
   "nbconvert_exporter": "python",
   "pygments_lexer": "ipython3",
   "version": "3.9.16"
  },
  "orig_nbformat": 4
 },
 "nbformat": 4,
 "nbformat_minor": 2
}
