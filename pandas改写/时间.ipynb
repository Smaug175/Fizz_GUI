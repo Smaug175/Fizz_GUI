{
 "cells": [
  {
   "cell_type": "code",
   "execution_count": 1,
   "metadata": {},
   "outputs": [
    {
     "name": "stdout",
     "output_type": "stream",
     "text": [
      "指定时间: 2023-06-10T15:30:45.123456789\n",
      "年: 2023\n",
      "月: 6\n",
      "日: 20\n",
      "时: 15\n",
      "分: 30\n",
      "秒: 45\n",
      "微秒: 283648\n",
      "纳秒: 434175765\n"
     ]
    }
   ],
   "source": [
    "import numpy as np\n",
    "\n",
    "# 创建指定纳秒级别的时间\n",
    "dt = np.datetime64('2023-06-10T15:30:45.123456789', 'ns')\n",
    "print(\"指定时间:\", dt)\n",
    "\n",
    "# 访问时间的各个部分\n",
    "year = dt.astype('datetime64[Y]').astype(int) + 1970\n",
    "month = dt.astype('datetime64[M]').astype(int) % 12 + 1\n",
    "day = dt.astype('datetime64[D]').astype(int) % 31 + 1\n",
    "hour = dt.astype('datetime64[h]').astype(int) % 24\n",
    "minute = dt.astype('datetime64[m]').astype(int) % 60\n",
    "second = dt.astype('datetime64[s]').astype(int) % 60\n",
    "microsecond = dt.astype('datetime64[us]').astype(int) % 1000000\n",
    "nanosecond = dt.astype('datetime64[ns]').astype(int) % 1000000000\n",
    "print(\"年:\", year)\n",
    "print(\"月:\", month)\n",
    "print(\"日:\", day)\n",
    "print(\"时:\", hour)\n",
    "print(\"分:\", minute)\n",
    "print(\"秒:\", second)\n",
    "print(\"微秒:\", microsecond)\n",
    "print(\"纳秒:\", nanosecond)\n"
   ]
  }
 ],
 "metadata": {
  "kernelspec": {
   "display_name": "py39",
   "language": "python",
   "name": "python3"
  },
  "language_info": {
   "codemirror_mode": {
    "name": "ipython",
    "version": 3
   },
   "file_extension": ".py",
   "mimetype": "text/x-python",
   "name": "python",
   "nbconvert_exporter": "python",
   "pygments_lexer": "ipython3",
   "version": "3.9.16"
  },
  "orig_nbformat": 4
 },
 "nbformat": 4,
 "nbformat_minor": 2
}
