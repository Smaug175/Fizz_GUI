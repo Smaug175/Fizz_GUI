{
 "cells": [
  {
   "cell_type": "code",
   "execution_count": null,
   "metadata": {},
   "outputs": [],
   "source": [
    "import numpy as np\n",
    "\n",
    "# 创建指定纳秒级别的时间\n",
    "dt = np.datetime64('2023-06-10T15:30:45.123456789', 'ns')\n",
    "print(\"指定时间:\", dt)\n",
    "\n",
    "# 访问时间的各个部分\n",
    "year = dt.astype('datetime64[Y]').astype(int) + 1970\n",
    "month = dt.astype('datetime64[M]').astype(int) % 12 + 1\n",
    "day = dt.astype('datetime64[D]').astype(int) % 31 + 1\n",
    "hour = dt.astype('datetime64[h]').astype(int) % 24\n",
    "minute = dt.astype('datetime64[m]').astype(int) % 60\n",
    "second = dt.astype('datetime64[s]').astype(int) % 60\n",
    "microsecond = dt.astype('datetime64[us]').astype(int) % 1000000\n",
    "nanosecond = dt.astype('datetime64[ns]').astype(int) % 1000000000\n",
    "print(\"年:\", year)\n",
    "print(\"月:\", month)\n",
    "print(\"日:\", day)\n",
    "print(\"时:\", hour)\n",
    "print(\"分:\", minute)\n",
    "print(\"秒:\", second)\n",
    "print(\"微秒:\", microsecond)\n",
    "print(\"纳秒:\", nanosecond)\n"
   ]
  },
  {
   "cell_type": "code",
   "execution_count": 2,
   "metadata": {},
   "outputs": [],
   "source": [
    "import tkinter as tk\n",
    "from matplotlib.figure import Figure\n",
    "from matplotlib.backends.backend_tkagg import FigureCanvasTkAgg\n",
    "\n",
    "def create_plot():\n",
    "    # 创建一个Figure对象\n",
    "    fig = Figure(figsize=(5, 4), dpi=100)\n",
    "\n",
    "    # 在Figure上添加一个子图\n",
    "    ax = fig.add_subplot(111)\n",
    "\n",
    "    # 绘制示例数据\n",
    "    x = [1, 2, 3, 4, 5]\n",
    "    y = [2, 4, 6, 8, 10]\n",
    "    ax.plot(x, y)\n",
    "\n",
    "    # 设置坐标轴的尺度范围\n",
    "    ax.set_xlim(0, 6)  # 设置X轴范围\n",
    "    ax.set_ylim(0, 12)  # 设置Y轴范围\n",
    "\n",
    "    return fig\n",
    "\n",
    "root = tk.Tk()\n",
    "root.title(\"坐标轴尺度限制示例\")\n",
    "\n",
    "# 创建一个FigureCanvasTkAgg对象，并将其添加到Tkinter窗口中\n",
    "canvas = FigureCanvasTkAgg(create_plot(), master=root)\n",
    "canvas.draw()\n",
    "canvas.get_tk_widget().pack()\n",
    "\n",
    "root.mainloop()\n"
   ]
  }
 ],
 "metadata": {
  "kernelspec": {
   "display_name": "py39",
   "language": "python",
   "name": "python3"
  },
  "language_info": {
   "codemirror_mode": {
    "name": "ipython",
    "version": 3
   },
   "file_extension": ".py",
   "mimetype": "text/x-python",
   "name": "python",
   "nbconvert_exporter": "python",
   "pygments_lexer": "ipython3",
   "version": "3.9.16"
  },
  "orig_nbformat": 4
 },
 "nbformat": 4,
 "nbformat_minor": 2
}
