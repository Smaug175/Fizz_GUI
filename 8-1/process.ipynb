{
 "cells": [
  {
   "cell_type": "code",
   "execution_count": null,
   "metadata": {},
   "outputs": [],
   "source": [
    "from ctypes import windll\n",
    "#from sympy.physics.units.definitions.unit_definitions import ms\n",
    "windll.shcore.SetProcessDpiAwareness(1)\n",
    "import tkinter as tk\n",
    "\n",
    "#由你的电脑的屏幕大小来决定\n",
    "\n",
    "def get_screen_size():\n",
    "    root = tk.Tk()\n",
    "    screen_width = root.winfo_screenwidth()\n",
    "    screen_height = root.winfo_screenheight()\n",
    "    root.destroy()\n",
    "    return screen_width, screen_height\n",
    "screen_wide,screen_high=get_screen_size()\n",
    "\n",
    "print(screen_wide,screen_high  )\n"
   ]
  },
  {
   "cell_type": "markdown",
   "metadata": {},
   "source": [
    "相同的DW下，16次实验，目的：探究距离的影响"
   ]
  },
  {
   "attachments": {},
   "cell_type": "markdown",
   "metadata": {},
   "source": [
    "1.读取数据"
   ]
  },
  {
   "cell_type": "code",
   "execution_count": null,
   "metadata": {},
   "outputs": [],
   "source": [
    "d1,d2=3000,3000\n",
    "w1,w2=60,60\n",
    "\n",
    "\n",
    "\n",
    "import pickle\n",
    "import sys\n",
    "\n",
    "def read_data(d1,d2,w1,w2):\n",
    "    '''\n",
    "    通过D,和W的大小来区分和读取数据，并返回四个数据结果。\n",
    "    '''\n",
    "    name=sys.path[0]+'\\data\\\\'+'D='+str(d1)+'-'+str(d2)+'_W='+str(w1)+'-'+str(w2)+\".bin\"\n",
    "\n",
    "    with open(name,'rb') as file:\n",
    "        move_datas=pickle.load(file)\n",
    "    \n",
    "    return move_datas\n",
    "\n",
    "mouse_move=read_data(d1,d2,w1,w2)"
   ]
  },
  {
   "cell_type": "markdown",
   "metadata": {},
   "source": [
    "mouse_move中，顺序是：第几条轨迹，第几个时间点，当前的位置（t,x,y）"
   ]
  },
  {
   "cell_type": "code",
   "execution_count": null,
   "metadata": {},
   "outputs": [],
   "source": [
    "import numpy as np\n",
    "for i in range(len(mouse_move)):\n",
    "    print(np.shape(mouse_move[i]))\n",
    "print(mouse_move[0][0])"
   ]
  },
  {
   "cell_type": "markdown",
   "metadata": {},
   "source": [
    "对单条轨迹进行判断，使用冒泡算法，当前后点相同时,t相同，删除轨迹点"
   ]
  },
  {
   "cell_type": "code",
   "execution_count": null,
   "metadata": {},
   "outputs": [],
   "source": [
    "def clean(mouse_move):\n",
    "    new1=[]\n",
    "    for i in range(len(mouse_move)):\n",
    "        new2=[]\n",
    "        t=-1\n",
    "        x=-1\n",
    "        y=-1\n",
    "        for j in range(len(mouse_move[i])):\n",
    "            \n",
    "            if t==mouse_move[i][j][0] and x==mouse_move[i][j][1] and y==mouse_move[i][j][2]:\n",
    "                t=mouse_move[i][j][0]\n",
    "                x=mouse_move[i][j][1]\n",
    "                y=mouse_move[i][j][2]\n",
    "                continue\n",
    "            else:\n",
    "                t=mouse_move[i][j][0]\n",
    "                x=mouse_move[i][j][1]\n",
    "                y=mouse_move[i][j][2]\n",
    "                new2.append(mouse_move[i][j])\n",
    "        new1.append(new2)\n",
    "    return new1\n",
    "\n",
    "mouse_move=clean(mouse_move)"
   ]
  },
  {
   "cell_type": "markdown",
   "metadata": {},
   "source": [
    "对于其中某些点进行处理，如果时间相同则，将其时间取前后时间的平均，"
   ]
  },
  {
   "cell_type": "code",
   "execution_count": null,
   "metadata": {},
   "outputs": [],
   "source": [
    "def average(mouse_move):\n",
    "    new=[]\n",
    "    for i in range(len(mouse_move)):\n",
    "        new1=[]\n",
    "        for j in range(len(mouse_move[i])-1):\n",
    "            t=mouse_move[i][j][0]\n",
    "            if mouse_move[i][j][0]==mouse_move[i][j+1][0]:\n",
    "                r=1\n",
    "                for k in range(j+1,len(mouse_move[i])-1):\n",
    "                    if mouse_move[i][j][0]==mouse_move[i][k][0]:\n",
    "                        r+=1\n",
    "                        #print(k)\n",
    "                #print('对于',mouse_move[i][j][0],'有',r,'个连续重复值')\n",
    "                \n",
    "                t0=mouse_move[i][j-1][0]\n",
    "                t1=mouse_move[i][j+r][0]\n",
    "                m=(t1-t0)/(r+1)\n",
    "                t=t0+m*2\n",
    "                \n",
    "            new1.append([t,mouse_move[i][j][1],mouse_move[i][j][2]])\n",
    "        new.append(new1)    \n",
    "    \n",
    "    for i in range(len(new)):\n",
    "        for j in range(len(new[i])-1):\n",
    "            if new[i][j][0]==new[i][j+1][0]:\n",
    "                print('存在前后相同点：',i,j)\n",
    "    \n",
    "    return new\n",
    "\n",
    "mouse_move=average(mouse_move)\n",
    "\n"
   ]
  },
  {
   "cell_type": "code",
   "execution_count": null,
   "metadata": {},
   "outputs": [],
   "source": [
    "import numpy as np\n",
    "t=[]\n",
    "for i in range(len(mouse_move)):\n",
    "    print(np.shape(mouse_move[i]))\n",
    "    print(mouse_move[i][-1][0]-mouse_move[i][0][0])\n",
    "    t.append(mouse_move[i][-1][0]-mouse_move[i][0][0])\n",
    "\n",
    "print('平均时间为',np.mean(t))"
   ]
  },
  {
   "attachments": {},
   "cell_type": "markdown",
   "metadata": {},
   "source": [
    "2.将轨迹数据转换为pd.DataFrame格式"
   ]
  },
  {
   "cell_type": "code",
   "execution_count": null,
   "metadata": {},
   "outputs": [],
   "source": [
    "import pandas as pd\n",
    "\n",
    "Track={}\n",
    "for i in range(len(mouse_move)):\n",
    "    Track[i]=pd.DataFrame(mouse_move[i])\n",
    "    Track[i].columns=['t','x','y']\n",
    "    \n"
   ]
  },
  {
   "attachments": {},
   "cell_type": "markdown",
   "metadata": {},
   "source": [
    "3.计算轨迹数据中的其他相关项（速度，角度，距离）"
   ]
  },
  {
   "attachments": {},
   "cell_type": "markdown",
   "metadata": {},
   "source": [
    "#进行y方向平滑处理"
   ]
  },
  {
   "cell_type": "code",
   "execution_count": null,
   "metadata": {},
   "outputs": [],
   "source": [
    "import numpy as np\n",
    "\n",
    "\n",
    "\n",
    "\n",
    "def identify(data):\n",
    "    #识别异常值\n",
    "    \n",
    "    # 计算均值和标准差\n",
    "    mean_val = np.mean(data)\n",
    "    std_val = np.std(data)\n",
    "\n",
    "    # 定义阈值（这里使用2个标准差作为阈值）\n",
    "    threshold = 3 * std_val\n",
    "\n",
    "    # 识别异常值\n",
    "    outliers = [x for x in data if abs(x - mean_val) > threshold]\n",
    "\n",
    "    # 替换异常值（这里使用均值来替换）\n",
    "    for outlier in outliers:\n",
    "        data[data.index(outlier)] = mean_val + (np.random.rand(1)[0])*threshold\n",
    "\n",
    "\n",
    "    return data\n",
    "\n",
    "\n",
    "\n",
    "def setValue(Track):\n",
    "    '''\n",
    "        计算速度和时间\n",
    "    '''\n",
    "    trace=[]\n",
    "    for i in range(len(Track)):\n",
    "        T=Track[i].t.values.tolist()\n",
    "        X=Track[i].x.values.tolist()\n",
    "        Y=Track[i].y.values.tolist()\n",
    "        \n",
    "        #将时间标准化\n",
    "        t0=T[0]\n",
    "        for i in range(len(T)):\n",
    "            T[i]=T[i]-t0\n",
    "        \n",
    "        index=[0,]\n",
    "        for i in range(1,len(Y)-1):\n",
    "            if Y[i]==Y[i-1] and Y[i]!=Y[i+1]:\n",
    "                index.append(i+1)\n",
    "        index.append(len(Y)-1)\n",
    "        \n",
    "        s=0\n",
    "        S=[0,]#点在轨迹上的位置\n",
    "        for i in range(1,len(X)):\n",
    "            s+=np.sqrt((X[i]-X[i-1])**2+(Y[i]-Y[i-1])**2)\n",
    "            S.append(s)\n",
    "        \n",
    "        v_x=[0,]\n",
    "        for i in range(1,len(X)):\n",
    "            v_x.append((X[i]-X[i-1])/(T[i]-T[i-1]))\n",
    "        v_x=identify(v_x)\n",
    "            \n",
    "        v_y=[0,]\n",
    "        for i in range(1,len(Y)):\n",
    "            v_y.append((Y[i]-Y[i-1])/(T[i]-T[i-1]))\n",
    "        v_y=identify(v_y)\n",
    "            \n",
    "        v=[0,]\n",
    "        for i in range(1,len(v_x)):\n",
    "            \n",
    "            v.append(np.sqrt((v_x[i])**2+(v_y[i])**2))\n",
    "        v=identify(v)\n",
    "        \n",
    "            \n",
    "        pandasDataSet=[]\n",
    "        for i in range(len(X)):\n",
    "            pandasDataSet.append((T[i],X[i],Y[i],S[i],v_x[i],v_y[i],v[i]))\n",
    "        \n",
    "        trace.append(pd.DataFrame(pandasDataSet,columns=['t','x','y','s','v_x','v_y','v']))\n",
    "        \n",
    "    return trace\n",
    "\n",
    "Track=setValue(Track)\n",
    "print(Track[0])\n"
   ]
  },
  {
   "attachments": {},
   "cell_type": "markdown",
   "metadata": {},
   "source": [
    "绘制双变量"
   ]
  },
  {
   "cell_type": "code",
   "execution_count": null,
   "metadata": {},
   "outputs": [],
   "source": [
    "import matplotlib.pyplot as plt\n",
    "import numpy as np\n",
    "from scipy.optimize import curve_fit\n",
    "from scipy.interpolate import interp1d\n",
    "\n",
    "\n",
    "def plot2data(Track,x,y):\n",
    "    colors = [\n",
    "    ('red', '#FF0000'),\n",
    "    ('lime', '#00FF00'),\n",
    "    ('blue', '#0000FF'),\n",
    "    ('yellow', '#FFFF00'),\n",
    "    ('cyan', '#00FFFF'),\n",
    "    ('magenta', '#FF00FF'),\n",
    "    ('orange', '#FFA500'),\n",
    "    ('darkred', '#8B0000'),\n",
    "    ('darkgreen', '#006400'),\n",
    "    ('darkblue', '#00008B'),\n",
    "    ('darkgoldenrod', '#B8860B'),\n",
    "    ('purple', '#800080'),\n",
    "    ('hotpink', '#FF69B4'),\n",
    "    ('teal', '#008080'),\n",
    "    ('silver', '#C0C0C0'),\n",
    "    ('saddlebrown', '#8B4513')\n",
    "]\n",
    "\n",
    "    sorted_colors = sorted(colors)\n",
    "\n",
    "    plt.figure(figsize=(16, 9),dpi=300)\n",
    "    print(len(Track))\n",
    "    for i in range(len(Track)):\n",
    "        X=np.array(Track[i][x].values.tolist())\n",
    "        Y=np.array(Track[i][y].values.tolist())\n",
    "        \n",
    "        \n",
    "        #plt.axis('equal')\n",
    "        # 绘制原始数据和拟合曲线\n",
    "        plt.scatter(X, Y, color=sorted_colors[i][0],s=1)\n",
    "        plt.xlabel(x)\n",
    "        plt.ylabel(y)\n",
    "        plt.title(x+'-'+y)\n",
    "        #plt.legend()\n",
    "        plt.grid(True)\n",
    "    plt.show()"
   ]
  },
  {
   "attachments": {},
   "cell_type": "markdown",
   "metadata": {},
   "source": [
    "5.绘制x,y的散点图"
   ]
  },
  {
   "cell_type": "code",
   "execution_count": null,
   "metadata": {},
   "outputs": [],
   "source": [
    "plot2data(Track,'t','v')"
   ]
  },
  {
   "cell_type": "code",
   "execution_count": null,
   "metadata": {},
   "outputs": [],
   "source": [
    "plot2data(Track,'t','v_x')"
   ]
  },
  {
   "attachments": {},
   "cell_type": "markdown",
   "metadata": {},
   "source": [
    "6.绘制t,s的散点图"
   ]
  },
  {
   "cell_type": "code",
   "execution_count": null,
   "metadata": {},
   "outputs": [],
   "source": [
    "plot2data(Track,'t','s')"
   ]
  },
  {
   "cell_type": "markdown",
   "metadata": {},
   "source": [
    "绘制三变量"
   ]
  },
  {
   "cell_type": "code",
   "execution_count": null,
   "metadata": {},
   "outputs": [],
   "source": [
    "import matplotlib.pyplot as plt\n",
    "import numpy as np\n",
    "from scipy.optimize import curve_fit\n",
    "from scipy.interpolate import interp1d\n",
    "\n",
    "\n",
    "def plot3data(Track,x,y,z):\n",
    "    colors = [\n",
    "    ('red', '#FF0000'),\n",
    "    ('black', '#00FF00'),\n",
    "    ('blue', '#0000FF'),]\n",
    "\n",
    "    sorted_colors = sorted(colors)\n",
    "\n",
    "    #plt.figure(figsize=(16, 9),dpi=300)\n",
    "    print(len(Track))\n",
    "    for i in range(len(Track)):\n",
    "        fig, ax1 = plt.subplots()\n",
    "        fig.dpi=300\n",
    "        fig.set_size_inches(16, 9)\n",
    "        #plt.figure(figsize=(16, 9),dpi=300)\n",
    "        X=np.array(Track[i][x].values.tolist())\n",
    "        Y=np.array(Track[i][y].values.tolist())\n",
    "        Z=np.array(Track[i][z].values.tolist())\n",
    "        \n",
    "        #plt.axis('equal')\n",
    "        # 绘制原始数据和拟合曲线\n",
    "        ax1.set_xlabel(x)\n",
    "        ax1.set_ylabel(y, color=colors[0][0])\n",
    "        ax1.scatter(X, Y, color=colors[0][0],s=1)\n",
    "        ax1.tick_params(axis='y', labelcolor=colors[0][0])\n",
    "        \n",
    "        ax2 = ax1.twinx()  # 创建共享X轴的第二个坐标轴\n",
    "\n",
    "        ax2.set_ylabel(z, color=colors[1][0])\n",
    "        ax2.scatter(X, Z, color=colors[1][0],s=1)\n",
    "        ax2.tick_params(axis='y', labelcolor=colors[1][0])\n",
    "        \n",
    "        \n",
    "        plt.title(x+'-'+y+'-'+z)\n",
    "        #plt.legend()\n",
    "        plt.grid(True)\n",
    "        plt.show()"
   ]
  },
  {
   "cell_type": "markdown",
   "metadata": {},
   "source": [
    "将时间，轨迹，速度，放一起来看"
   ]
  },
  {
   "cell_type": "code",
   "execution_count": null,
   "metadata": {},
   "outputs": [],
   "source": [
    "#plot3data(Track,'t','s','v')"
   ]
  },
  {
   "cell_type": "markdown",
   "metadata": {},
   "source": [
    "单独绘制带有边界的,通过边界进行区分，"
   ]
  },
  {
   "cell_type": "code",
   "execution_count": null,
   "metadata": {},
   "outputs": [],
   "source": [
    "import matplotlib.pyplot as plt\n",
    "import numpy as np\n",
    "from scipy.optimize import curve_fit\n",
    "from scipy.interpolate import interp1d\n",
    "\n",
    "x_edge1=screen_wide/2-d1/2-w1/2\n",
    "x_edge2=screen_wide/2-d1/2+w1/2\n",
    "x_edge3=screen_wide/2+d1/2-w1/2\n",
    "x_edge4=screen_wide/2+d1/2+w1/2\n",
    "\n",
    "colors = [\n",
    "('red', '#FF0000'),\n",
    "('black', '#00FF00'),\n",
    "('blue', '#0000FF'),]\n",
    "\n",
    "sorted_colors = sorted(colors)\n",
    "\n",
    "#plt.figure(figsize=(16, 9),dpi=300)\n",
    "print(len(Track))\n",
    "for i in range(len(Track)):\n",
    "    fig, ax1 = plt.subplots()\n",
    "    fig.dpi=300\n",
    "    fig.set_size_inches(16, 9)\n",
    "    #plt.figure(figsize=(16, 9),dpi=300)\n",
    "    X=np.array(Track[i]['x'].values.tolist())\n",
    "    Y=np.array(Track[i]['t'].values.tolist())\n",
    "    Z=np.array(Track[i]['s'].values.tolist())\n",
    "    \n",
    "    # 绘制原始数据和拟合曲线\n",
    "    ax1.set_xlabel('x')\n",
    "    ax1.set_ylabel('t', color=colors[0][0])\n",
    "    ax1.scatter(X, Y, color=colors[0][0],s=1)\n",
    "    ax1.tick_params(axis='y', labelcolor=colors[0][0])\n",
    "    \n",
    "    ax2 = ax1.twinx()  # 创建共享X轴的第二个坐标轴\n",
    "\n",
    "    ax2.set_ylabel('s', color=colors[2][0])\n",
    "    ax2.scatter(X, Z, color=colors[2][0],s=1)\n",
    "    \n",
    "    ax2.axvline(x=x_edge1, color=colors[1][0], linestyle='--', )\n",
    "    ax2.axvline(x=x_edge2, color=colors[1][0], linestyle='--', )\n",
    "    ax2.axvline(x=x_edge3, color=colors[1][0], linestyle='--', )\n",
    "    ax2.axvline(x=x_edge4, color=colors[1][0], linestyle='--', )\n",
    "    ax2.tick_params(axis='y', labelcolor=colors[2][0])\n",
    "    \n",
    "    \n",
    "    plt.title('t-s-x')\n",
    "    #plt.legend()\n",
    "    plt.grid(True)\n",
    "    plt.show()"
   ]
  },
  {
   "cell_type": "code",
   "execution_count": 2,
   "metadata": {},
   "outputs": [
    {
     "data": {
      "image/png": "[encoded data removed]",
      "text/plain": [
       "<Figure size 640x480 with 1 Axes>"
      ]
     },
     "metadata": {},
     "output_type": "display_data"
    }
   ],
   "source": [
    "import matplotlib.pyplot as plt\n",
    "\n",
    "# 示例数据\n",
    "x = [1, 2, 3, 4, 5]\n",
    "y = [2, 4, 6, 8, 10]\n",
    "\n",
    "# 绘制折线图\n",
    "plt.plot(x, y)\n",
    "plt.xlabel('X轴')\n",
    "plt.ylabel('Y轴')\n",
    "plt.title('示例图')\n",
    "plt.grid(True)\n",
    "\n",
    "# 使用text()函数在指定位置显示数字\n",
    "for i in range(len(x)):\n",
    "    plt.text(x[i], y[i], str(y[i]), ha='center', va='bottom')\n",
    "\n",
    "#使用annotate()函数在指定位置添加带箭头的文本框来显示数字\n",
    "for i in range(len(x)):\n",
    "    plt.annotate(str(y[i]), xy=(x[i], y[i]), xytext=(x[i]+0.2, y[i]),\n",
    "                 arrowprops=dict(arrowstyle='->'), ha='center', va='bottom')\n",
    "\n",
    "plt.show()\n"
   ]
  }
 ],
 "metadata": {
  "kernelspec": {
   "display_name": "py39",
   "language": "python",
   "name": "python3"
  },
  "language_info": {
   "codemirror_mode": {
    "name": "ipython",
    "version": 3
   },
   "file_extension": ".py",
   "mimetype": "text/x-python",
   "name": "python",
   "nbconvert_exporter": "python",
   "pygments_lexer": "ipython3",
   "version": "3.9.16"
  },
  "orig_nbformat": 4
 },
 "nbformat": 4,
 "nbformat_minor": 2
}
